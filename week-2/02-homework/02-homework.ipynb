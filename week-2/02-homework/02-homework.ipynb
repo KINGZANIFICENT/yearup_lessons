{
  "cells": [
    {
      "cell_type": "markdown",
      "metadata": {
        "id": "IBUImZC1igvr"
      },
      "source": [
        "# Homework: Advanced Conditional Logic"
      ]
    },
    {
      "cell_type": "markdown",
      "metadata": {
        "id": "WCc8f6VUigvt"
      },
      "source": [
        "## **Submission Guidelines**"
      ]
    },
    {
      "cell_type": "markdown",
      "metadata": {
        "id": "LiHC-_xJigvt"
      },
      "source": [
        "* Focus on completing Exercises 1–4; Exercise 5 is a stretch challenge.\n",
        "* Submit your by copy and pasting each exercise into the text submission box for this assessment in brightspace\n",
        "* Clearly label each exercise and include comments to explain your logic."
      ]
    },
    {
      "cell_type": "code",
      "execution_count": null,
      "metadata": {
        "id": "1L9gSkhJigvu"
      },
      "outputs": [],
      "source": []
    },
    {
      "cell_type": "markdown",
      "metadata": {
        "id": "jNMY9usVigvu"
      },
      "source": [
        "\n",
        "\n",
        "## Instructions"
      ]
    },
    {
      "cell_type": "markdown",
      "metadata": {
        "id": "KNiaPXSKigvu"
      },
      "source": [
        "\n",
        "Copy this Jupyter Notebook and complete each exercise in the provided spaces.  \n",
        "\n",
        "- Clearly label each exercise and include comments explaining your logic.  \n",
        "- Focus on completing Exercises 1–4; Exercise 5 is a stretch challenge.\n",
        "- Modify the predefined variables as needed to test different cases.  \n",
        "\n",
        "**Remember to start with the English steps, write pseudocode, then write code.**"
      ]
    },
    {
      "cell_type": "markdown",
      "metadata": {
        "id": "P1qvuGU3igvv"
      },
      "source": [
        "## **Exercise 1: Multi-Condition Decisions**"
      ]
    },
    {
      "cell_type": "markdown",
      "metadata": {
        "id": "48v0QsPiigvv"
      },
      "source": [
        "\n",
        "A **movie rating system** follows these rules:\n",
        "   - If `age` is **less than 13**, print `\"PG movies only\"`.\n",
        "   - If `age` is **between 13 and 17**, print `\"PG-13 movies allowed\"`.\n",
        "   - Otherwise, print `\"All movies allowed\"`."
      ]
    },
    {
      "cell_type": "code",
      "execution_count": 311,
      "metadata": {
        "colab": {
          "base_uri": "https://localhost:8080/"
        },
        "id": "CK_W6MQLigvv",
        "outputId": "f7559fba-a15b-4978-fa00-a62cc423a695"
      },
      "outputs": [
        {
          "output_type": "stream",
          "name": "stdout",
          "text": [
            "PG-13 Movies Allowed\n"
          ]
        }
      ],
      "source": [
        "# Exercise 1\n",
        "age = 15\n",
        "not_allowed = 13\n",
        "allowed = 17\n",
        "\n",
        "if age <= not_allowed:\n",
        "  print(\"PG Movies Only\")\n",
        "elif age > not_allowed and age < allowed:\n",
        "  print(\"PG-13 Movies Allowed\")\n",
        "else:\n",
        "  print(\"All Movies Allowed\")\n"
      ]
    },
    {
      "cell_type": "markdown",
      "metadata": {
        "id": "05XoiK9Jigvw"
      },
      "source": [
        "## **Exercise 2: Decision Tree for Discounts**"
      ]
    },
    {
      "cell_type": "markdown",
      "metadata": {
        "id": "T0SCDwoLigvw"
      },
      "source": [
        "\n",
        "A **discount system** follows these rules:\n",
        "- If `is_student` is `True`, apply a 20% discount.\n",
        "- If `age` is **65 or older**, apply a 15% discount.\n",
        "- If both conditions are met, apply the higher discount only."
      ]
    },
    {
      "cell_type": "code",
      "execution_count": 316,
      "metadata": {
        "colab": {
          "base_uri": "https://localhost:8080/"
        },
        "id": "ctSpHMJeigvw",
        "outputId": "e915f02c-41e4-4785-cac8-2dce761bb9a2"
      },
      "outputs": [
        {
          "output_type": "stream",
          "name": "stdout",
          "text": [
            "35% discount\n"
          ]
        }
      ],
      "source": [
        "# Exercise 2\n",
        "is_student = True  # Change this value to test\n",
        "age = 70\n",
        "start_age = 65  # Change this value to test\n",
        "\n",
        "if is_student == True and age >= start_age:\n",
        "  print(\"35% discount\")\n",
        "elif is_student == True:\n",
        "  print(\"20% discount\")\n",
        "elif age >= start_age:\n",
        "  print(\"15% discount\")\n",
        "elif is_student == False and age <= start_age:\n",
        "  print(\"no discount\")\n",
        "\n"
      ]
    },
    {
      "cell_type": "markdown",
      "metadata": {
        "id": "Iyhs2akRigvw"
      },
      "source": [
        "\n",
        "## **Exercise 3: Loan Approval System**"
      ]
    },
    {
      "cell_type": "markdown",
      "metadata": {
        "id": "U6UsUYtsigvx"
      },
      "source": [
        "\n",
        "A **loan approval system** follows these rules:\n",
        "- Applicant **must be at least 18**.\n",
        "- Loan is **approved** if `income` is over **40k** OR `credit_score` is above **700**.\n",
        "- If the applicant has `has_debt = True`, then **both** conditions are required."
      ]
    },
    {
      "cell_type": "code",
      "execution_count": 387,
      "metadata": {
        "colab": {
          "base_uri": "https://localhost:8080/"
        },
        "id": "yWGYaS0Yigvx",
        "outputId": "c951375e-3cca-481d-af58-01ac16ce0016"
      },
      "outputs": [
        {
          "output_type": "stream",
          "name": "stdout",
          "text": [
            "age met\n",
            "denied\n",
            "both conditions required\n",
            "approved\n"
          ]
        }
      ],
      "source": [
        "# Exercise 3\n",
        "age = 30  # Change this value to test\n",
        "minumum_age = 18\n",
        "income = 45000\n",
        "minumum_income = 40000  # Change this value to test\n",
        "credit_score = 710\n",
        "minumum_credit = 700  # Change this value to test\n",
        "has_debt = True  # Change this value to test\n",
        "\n",
        "if age < minumum_age:\n",
        "  print(\"denied\")\n",
        "else:\n",
        "  print(\"age met\")\n",
        "  if has_debt == False:\n",
        "      print(\"approved\")\n",
        "  else:\n",
        "    print(\"denied\")\n",
        "    if has_debt == True:\n",
        "      print(\"both conditions required\")\n",
        "      if income > minumum_income and credit_score > minumum_credit:\n",
        "        print(\"approved\")\n",
        "      else:\n",
        "        print(\"denied\")\n",
        "\n",
        "\n"
      ]
    },
    {
      "cell_type": "markdown",
      "metadata": {
        "id": "qsBxmYltigvx"
      },
      "source": [
        "## **Exercise 4: Complex Weather Decision System**"
      ]
    },
    {
      "cell_type": "markdown",
      "metadata": {
        "id": "M3rCfcuvigvx"
      },
      "source": [
        "\n",
        "A **weather advisory system** follows these rules:\n",
        "- If `temperature` is **below 32°F**, print `\"Freezing warning\"`.\n",
        "- If `temperature` is **between 32°F and 50°F**, print `\"Cold weather\"`.\n",
        "- If `temperature` is **above 50°F** and `humidity` is **above 70%**, print `\"Warm but humid\"`.\n",
        "- Otherwise, print `\"Mild weather\"`.\n"
      ]
    },
    {
      "cell_type": "code",
      "execution_count": 72,
      "metadata": {
        "colab": {
          "base_uri": "https://localhost:8080/"
        },
        "id": "5yR_nPyUigvx",
        "outputId": "5f1c04a7-fc53-4b37-b0f3-b2ca6a85496a"
      },
      "outputs": [
        {
          "output_type": "stream",
          "name": "stdout",
          "text": [
            "warm but mild\n"
          ]
        }
      ],
      "source": [
        "# Exercise 4\n",
        "temperature = 55  # Change this value to test\n",
        "humidity = 80\n",
        "lowpoint = 32\n",
        "cold_high = 50\n",
        "humidity_low = 70\n",
        "\n",
        "if temperature < lowpoint:\n",
        "  print(\"Freezing Warning\")\n",
        "elif temperature > lowpoint and temperature <= cold_high:\n",
        "  print(\"cold weather\")\n",
        "elif temperature > cold_high and humidity >= humidity_low:\n",
        "  print(\"warm but mild\") # Change this value to test\n",
        "else:\n",
        "  print(\"mild weather\")\n"
      ]
    },
    {
      "cell_type": "markdown",
      "metadata": {
        "id": "KSJ-Of7Jigvx"
      },
      "source": [
        "## **Exercise 5: Advanced Multi-Step Bank Security System (Extra Hard)**"
      ]
    },
    {
      "cell_type": "markdown",
      "metadata": {
        "id": "DThXDNzgigvx"
      },
      "source": [
        "\n",
        "Design a **bank security system** that follows these rules:\n",
        "- If `is_employee = True`, grant full access.\n",
        "- If `is_manager = True`, grant access to sensitive files.\n",
        "- If `is_customer = True` and `account_balance > 1000`, allow transactions.\n",
        "- If none of the conditions apply, print `\"Access Denied\"`.\n",
        "- **Extended Rule:** If `security_alert = True`, deny all access regardless of other conditions."
      ]
    },
    {
      "cell_type": "code",
      "execution_count": 152,
      "metadata": {
        "colab": {
          "base_uri": "https://localhost:8080/"
        },
        "id": "B_C5XYXQigvx",
        "outputId": "ae7dce29-6651-464a-c13c-eb49bb883387"
      },
      "outputs": [
        {
          "output_type": "stream",
          "name": "stdout",
          "text": [
            "welcome customer\n",
            "allow transactions\n"
          ]
        }
      ],
      "source": [
        "# Exercise 5\n",
        "is_employee = False  # Change this value to test\n",
        "is_manager = False  # Change this value to test\n",
        "is_customer = True  # Change this value to test\n",
        "account_balance = 5000  # Change this value to test\n",
        "minumum_balance = 1000\n",
        "security_alert = False # Change this value to test\n",
        "\n",
        "if security_alert == True:\n",
        "  print(\"Access Denied\")\n",
        "else:\n",
        "  if is_employee == True:\n",
        "    print(\"Employee Perms\")\n",
        "  elif is_manager == True:\n",
        "    print(\"Sensative File Perms\")\n",
        "  if is_customer == True and is_manager == False and is_employee == False:\n",
        "    print(\"welcome customer\")\n",
        "  if is_customer == True and account_balance > minumum_balance:\n",
        "    print(\"allow transactions\")\n",
        "\n"
      ]
    },
    {
      "cell_type": "markdown",
      "metadata": {
        "id": "GDSCKoNDigvy"
      },
      "source": [
        "## **Submission Guidelines**"
      ]
    },
    {
      "cell_type": "markdown",
      "metadata": {
        "id": "TcF6CeuCigvy"
      },
      "source": [
        "\n",
        "- Submit your work as a `.py` or `.ipynb` file.\n",
        "- Clearly label each exercise and include comments.\n",
        "- Focus on completing Exercises 1–4; Exercise 5 is a stretch challenge.\n",
        "- Have fun practicing your advanced conditionals!"
      ]
    }
  ],
  "metadata": {
    "language_info": {
      "name": "python"
    },
    "colab": {
      "provenance": []
    },
    "kernelspec": {
      "name": "python3",
      "display_name": "Python 3"
    }
  },
  "nbformat": 4,
  "nbformat_minor": 0
}