{
  "cells": [
    {
      "cell_type": "markdown",
      "metadata": {
        "id": "m3ONQu8t5lFR"
      },
      "source": [
        "# Homework: Conditional Logic and Boolean Expressions"
      ]
    },
    {
      "cell_type": "markdown",
      "metadata": {
        "id": "pDD7UMju5lFT"
      },
      "source": [
        "## **Submission Guidelines**\n",
        "* Focus on completing Exercises 1, 2 and 3. Exercises 4 and 5 are _stretch challenges_.\n",
        "* Submit your by copy and pasting each exercise into the text submission box for this assessment in brightspace* Clearly label each exercise and include comments to explain your logic.\n",
        "\n",
        "\n",
        "## Instructions"
      ]
    },
    {
      "cell_type": "markdown",
      "metadata": {
        "id": "GyC4A3oJ5lFT"
      },
      "source": [
        "\n",
        "Copy this Jupyter Notebook and complete each exercise in the provided spaces.  \n",
        "\n",
        "- Clearly label each exercise and include comments explaining your logic.  \n",
        "- Focus on completing Exercises 1–3; Exercises 4 and 5 are a stretch challenge.\n",
        "- Modify the predefined variables as needed to test different cases.  \n",
        "\n",
        "**Remember to start with the English steps, write pseudocode, then write code.**"
      ]
    },
    {
      "cell_type": "markdown",
      "metadata": {
        "id": "XXSEtoae5lFU"
      },
      "source": [
        "## **Exercise 1: Basic Conditional Statements**"
      ]
    },
    {
      "cell_type": "markdown",
      "metadata": {
        "id": "mwHwkBjN5lFU"
      },
      "source": [
        "\n",
        "1. **Write a Conditional Statement:** A variable `temperature` is already defined.\n",
        "2. **Use an If-Else Statement:** If the temperature is greater than 80, print `\"It's hot!\"`; otherwise, print `\"It's not too hot.\"`"
      ]
    },
    {
      "cell_type": "code",
      "execution_count": 1,
      "metadata": {
        "id": "8mqLFW535lFU",
        "outputId": "c9a9b7a1-337a-4a76-a0a2-372764351b66",
        "colab": {
          "base_uri": "https://localhost:8080/"
        }
      },
      "outputs": [
        {
          "output_type": "stream",
          "name": "stdout",
          "text": [
            "It's not too hot.\n"
          ]
        }
      ],
      "source": [
        "# Exercise 1\n",
        "temperature = 75  # Change this value to test different conditions\n",
        "if temperature > 80:\n",
        "    print(\"It's hot!\")\n",
        "else:\n",
        "    print(\"It's not too hot.\")\n"
      ]
    },
    {
      "cell_type": "markdown",
      "metadata": {
        "id": "TYM-03NB5lFV"
      },
      "source": [
        "\n",
        "## **Exercise 2: Logical Operators**"
      ]
    },
    {
      "cell_type": "markdown",
      "metadata": {
        "id": "xOcd8BFb5lFV"
      },
      "source": [
        "\n",
        "1. **Boolean Variables:** `is_raining` and `have_umbrella` are already defined.\n",
        "2. **Use Logical Operators:** Write an `if` statement that prints `\"You will stay dry\"` only if you have an umbrella or it's not raining."
      ]
    },
    {
      "cell_type": "code",
      "execution_count": 3,
      "metadata": {
        "id": "Hi6urNx45lFW"
      },
      "outputs": [],
      "source": [
        "# Exercise 2\n",
        "is_raining = True  # Change this to test\n",
        "have_umbrella = False  # Change this to test\n",
        "if have_umbrella or not is_raining:\n",
        "    print(\"You will stay dry\")"
      ]
    },
    {
      "cell_type": "markdown",
      "metadata": {
        "id": "FvjHXjAm5lFW"
      },
      "source": [
        "## **Exercise 3: Nested Conditions**"
      ]
    },
    {
      "cell_type": "markdown",
      "metadata": {
        "id": "iyn-2YpQ5lFW"
      },
      "source": [
        "\n",
        "A **store discount system** follows these rules:\n",
        "- If a customer is a member, they get a 10% discount.\n",
        "- If they spend over $100, they get an additional 5% discount.\n",
        "- If they are not a member, they get no discount.\n",
        "\n",
        "Write a program that calculates the discount using predefined values for `is_member` and `total_spent`."
      ]
    },
    {
      "cell_type": "code",
      "execution_count": 4,
      "metadata": {
        "id": "UOSzC9df5lFW",
        "outputId": "432d2ea7-0b71-4533-c0f9-9895096c0e6e",
        "colab": {
          "base_uri": "https://localhost:8080/"
        }
      },
      "outputs": [
        {
          "output_type": "stream",
          "name": "stdout",
          "text": [
            "You get a 10% discount\n",
            "You get an additional 5% discount\n"
          ]
        }
      ],
      "source": [
        "is_member = True  # Change this value to test\n",
        "total_spent = 120  # Change this value to test\n",
        "if is_member:\n",
        "    print(\"You get a 10% discount\")\n",
        "    if total_spent > 100:\n",
        "        print(\"You get an additional 5% discount\")\n"
      ]
    },
    {
      "cell_type": "markdown",
      "metadata": {
        "id": "9g1bYURp5lFW"
      },
      "source": [
        "\n",
        "## **Exercise 4: Manual Number Comparison (Extra Hard)**"
      ]
    },
    {
      "cell_type": "markdown",
      "metadata": {
        "id": "ZzY_jMak5lFX"
      },
      "source": [
        "\n",
        "Given three numbers `a, b, c`, determine and print the **largest** and **smallest** **without using built-in functions** like `max()` or `min()`.\n",
        "\n",
        "- **Hint**: You must manually compare each number using nested `if` statements."
      ]
    },
    {
      "cell_type": "code",
      "execution_count": 8,
      "metadata": {
        "id": "2RlRTu5i5lFX"
      },
      "outputs": [],
      "source": [
        "# Exercise 5\n",
        "a = 10\n",
        "b = 20\n",
        "c = 15\n",
        "\n",
        "if a > b and a > c:\n",
        "    largest = a\n",
        "elif b > a and b > c:\n",
        "    largest = b\n",
        "else:\n",
        "    largest = c"
      ]
    },
    {
      "cell_type": "markdown",
      "metadata": {
        "id": "po1UZuXi5lFX"
      },
      "source": [
        "## **Exercise 5: Nested Logical Puzzle (Nearly Impossible)**"
      ]
    },
    {
      "cell_type": "markdown",
      "metadata": {
        "id": "zwYjYAUQ5lFX"
      },
      "source": [
        "\n",
        "You're given four integer variables: `a`, `b`, `c`, and `d`. Write a program to determine and print:\n",
        "\n",
        "1. **The second largest** number among the four variables **without using any built-in functions or sorting**.\n",
        "2. Additionally, identify if the second largest number is **even or odd** and print the result accordingly.\n",
        "\n",
        "You must solve this **only using nested conditional statements and logical operators**.\n",
        "\n",
        "**Example Output:**  \n",
        "```\n",
        "The second largest number is 42\n",
        "The second largest number is even.\n",
        "```\n",
        "\n",
        "This challenge demands careful consideration of multiple comparisons and conditions.\n"
      ]
    },
    {
      "cell_type": "code",
      "execution_count": 9,
      "metadata": {
        "id": "q-nMg9WU5lFX"
      },
      "outputs": [],
      "source": [
        "# Exercise 5\n",
        "a = 25  # Change this to test\n",
        "b = 42  # Change this to test\n",
        "c = 37  # Change this to test\n",
        "d = 42  # Change this to test\n",
        "\n"
      ]
    },
    {
      "cell_type": "markdown",
      "metadata": {
        "id": "Wft3Qs3o5lFX"
      },
      "source": [
        "\n",
        "\n",
        "## **Submission Guidelines**"
      ]
    },
    {
      "cell_type": "markdown",
      "metadata": {
        "id": "M1_ztST25lFX"
      },
      "source": [
        "\n",
        "- Submit your work as a single Python file (`.py`) or a Jupyter Notebook (`.ipynb`).\n",
        "- Clearly label each exercise and include comments to explain your logic.\n",
        "- Focus on completing Exercises 1–3; Exercises 4 and 5 are a stretch challenge.\n"
      ]
    }
  ],
  "metadata": {
    "kernelspec": {
      "display_name": "Python 3",
      "language": "python",
      "name": "python3"
    },
    "language_info": {
      "codemirror_mode": {
        "name": "ipython",
        "version": 3
      },
      "file_extension": ".py",
      "mimetype": "text/x-python",
      "name": "python",
      "nbconvert_exporter": "python",
      "pygments_lexer": "ipython3",
      "version": "3.12.2"
    },
    "colab": {
      "provenance": []
    }
  },
  "nbformat": 4,
  "nbformat_minor": 0
}